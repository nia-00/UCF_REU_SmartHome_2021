{
 "cells": [
  {
   "cell_type": "markdown",
   "metadata": {},
   "source": [
    "# Output File Combination"
   ]
  },
  {
   "cell_type": "code",
   "execution_count": 2,
   "metadata": {},
   "outputs": [],
   "source": [
    "# imports\n",
    "import csv\n",
    "import pandas as pd\n",
    "from datetime import datetime"
   ]
  },
  {
   "cell_type": "code",
   "execution_count": 15,
   "metadata": {
    "scrolled": true
   },
   "outputs": [],
   "source": [
    "# This function combines the motor states output file with the sensor data output file.\n",
    "def combine_outputs(file1, file2):\n",
    "    with open(file1, \"r\") as motor, open(file2, \"r\") as sensor, open(\"Combined_Output1.csv\", \"w\", newline = '') as of:\n",
    "            # Make the input readers and the output writer\n",
    "            motorReader = csv.reader(motor)\n",
    "            sensorReader = csv.reader(sensor)\n",
    "            outWriter = csv.writer(of, delimiter = ',')\n",
    "\n",
    "            # Turn the inputs into a list for easy traversal\n",
    "            motorData = list(motorReader)\n",
    "            sensorData = list(sensorReader)\n",
    "\n",
    "            sensorData[0][0] = \"Sensor \" + sensorData[0][0]\n",
    "            motorData[0][0] = \"Motor \" + motorData[0][0]\n",
    "\n",
    "            # These reorder the column headers of the output file so the\n",
    "            # timestamps of the sensors and motors are at the start of\n",
    "            # the file\n",
    "            header = [sensorData[0][0]]\n",
    "            header.extend([motorData[0][0]])\n",
    "            header.extend(sensorData[0][1:])\n",
    "            header.extend(motorData[0][1:])\n",
    "            outWriter.writerow(header)\n",
    "\n",
    "            # Keeps track of row indices for each list\n",
    "            lineM = 1\n",
    "            lineS = 1\n",
    "\n",
    "            # Keeps track of current times for each list\n",
    "            currentMotor = datetime.datetime.strptime(motorData[lineM][0], '%H:%M:%S')\n",
    "            currentSensor = datetime.datetime.strptime(sensorData[lineS][0], '%H:%M:%S')\n",
    "\n",
    "            # Store the lengths here to save time when accessing in the loop\n",
    "            motorLen = len(motorData) - 1\n",
    "            sensorLen = len(sensorData) -1\n",
    "\n",
    "            length = motorLen + sensorLen\n",
    "\n",
    "            # This loop goes through each row of both lists, going back and forth between the two\n",
    "            for i in range(length):\n",
    "                # Write the current lines for the actuators and sensors\n",
    "                outLine = [sensorData[lineS][0]]\n",
    "                outLine.extend([motorData[lineM][0]])\n",
    "                outLine.extend(sensorData[lineS][1:])\n",
    "                outLine.extend(motorData[lineM][1:])\n",
    "                outWriter.writerow(outLine)\n",
    "\n",
    "                # if we are at the end of both csv files\n",
    "                if lineS == sensorLen and lineM == motorLen:\n",
    "                    break\n",
    "                # if motor time is bigger than sensor time, update sensor\n",
    "                elif currentMotor > currentSensor:\n",
    "                    if lineS < sensorLen:\n",
    "                        lineS += 1\n",
    "                        currentSensor = datetime.datetime.strptime(sensorData[lineS][0], '%H:%M:%S')\n",
    "                    else:\n",
    "                        lineM += 1\n",
    "                # if sensor time is bigger than motor time, update motor\n",
    "                elif currentMotor < currentSensor:\n",
    "                    if lineM < motorLen:\n",
    "                        lineM += 1\n",
    "                        currentMotor = datetime.datetime.strptime(motorData[lineM][0], '%H:%M:%S')\n",
    "                    else:\n",
    "                        lineS += 1\n",
    "                # if both times are equal, update both\n",
    "                else:\n",
    "                    i += 1\n",
    "                    lineS += 1\n",
    "                    lineM += 1\n",
    "                    currentSensor = datetime.datetime.strptime(sensorData[lineS][0], '%H:%M:%S')\n",
    "                    currentMotor = datetime.datetime.strptime(motorData[lineM][0], '%H:%M:%S')\n",
    "\n",
    "\n",
    "combine_outputs(\"charlotte_sim_1_cooltoofast_states.csv\", \"cleaned_charlotte_sim_1_cooltoofast_sensors.csv\")"
   ]
  },
  {
   "cell_type": "code",
   "execution_count": null,
   "metadata": {},
   "outputs": [],
   "source": []
  }
 ],
 "metadata": {
  "kernelspec": {
   "display_name": "Python 3",
   "language": "python",
   "name": "python3"
  },
  "language_info": {
   "codemirror_mode": {
    "name": "ipython",
    "version": 3
   },
   "file_extension": ".py",
   "mimetype": "text/x-python",
   "name": "python",
   "nbconvert_exporter": "python",
   "pygments_lexer": "ipython3",
   "version": "3.8.5"
  }
 },
 "nbformat": 4,
 "nbformat_minor": 4
}
