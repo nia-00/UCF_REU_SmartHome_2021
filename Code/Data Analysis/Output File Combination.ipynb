{
 "cells": [
  {
   "cell_type": "markdown",
   "metadata": {},
   "source": [
    "# Output File Combination"
   ]
  },
  {
   "cell_type": "code",
   "execution_count": 16,
   "metadata": {},
   "outputs": [],
   "source": [
    "# imports\n",
    "import csv\n",
    "import pandas as pd"
   ]
  },
  {
   "cell_type": "code",
   "execution_count": 57,
   "metadata": {
    "scrolled": true
   },
   "outputs": [],
   "source": [
    "# This function combines the motor states output file with the sensor data output file.\n",
    "def combine_outputs(file1, file2):\n",
    "     with open(file1, \"r\") as motor, open(file2, \"r\") as sensor, open(\"Combined_Output1.csv\", \"w\", newline = '') as of:\n",
    "            # Make the input readers and the output writer\n",
    "            motorReader = csv.reader(motor)\n",
    "            sensorReader = csv.reader(sensor)\n",
    "            outWriter = csv.writer(of, delimiter = ',')\n",
    "            \n",
    "            # Turn the inputs into a list for easy traversal\n",
    "            motorData = list(motorReader)\n",
    "            sensorData = list(sensorReader)\n",
    "            \n",
    "            # Keeps track of row indices for each list\n",
    "            lineM = 1\n",
    "            lineS = 1\n",
    "            \n",
    "            # Keeps track of current times for each list\n",
    "            currentMotor = motorData[lineM][0]\n",
    "            currentSensor = sensorData[lineS][0]\n",
    "            \n",
    "            # Store the lengths here to save time when accessing in the loop\n",
    "            motorLen = len(motorData) - 1\n",
    "            sensorLen = len(sensorData) - 1\n",
    "            \n",
    "            length = motorLen + sensorLen\n",
    "            \n",
    "            # This loop goes through each row of both lists, going back and forth between the two\n",
    "            for i in range(length):\n",
    "                # Write the current lines for the actuators and sensors\n",
    "                outLine = sensorData[lineS].copy()\n",
    "                outLine.extend(motorData[lineM])\n",
    "                outWriter.writerow(outLine)\n",
    "                                \n",
    "                # if we are at the end of both csv files\n",
    "                if (lineS + 1) == sensorLen and (lineM + 1) == motorLen:\n",
    "                    break\n",
    "                # if motor time is bigger than sensor time, update sensor\n",
    "                elif currentMotor > currentSensor:\n",
    "                    lineS += 1\n",
    "                    currentSensor = sensorData[lineS][0]\n",
    "                # if sensor time is bigger than motor time, update motor\n",
    "                elif currentMotor < currentSensor:\n",
    "                    lineM += 1\n",
    "                    currentMotor = motorData[lineM][0]\n",
    "                # if both times are equal, update both\n",
    "                else:\n",
    "                    i += 1\n",
    "                    lineS += 1\n",
    "                    lineM += 1\n",
    "                    currentSensor = sensorData[lineS][0]\n",
    "                    currentMotor = motorData[lineM][0]\n",
    "\n",
    "                    \n",
    "            \n",
    "combine_outputs(\"appliance_and_motor_states1.csv\", \"mondayAfternoonTest.csv\")"
   ]
  },
  {
   "cell_type": "code",
   "execution_count": null,
   "metadata": {},
   "outputs": [],
   "source": []
  }
 ],
 "metadata": {
  "kernelspec": {
   "display_name": "Python 3",
   "language": "python",
   "name": "python3"
  },
  "language_info": {
   "codemirror_mode": {
    "name": "ipython",
    "version": 3
   },
   "file_extension": ".py",
   "mimetype": "text/x-python",
   "name": "python",
   "nbconvert_exporter": "python",
   "pygments_lexer": "ipython3",
   "version": "3.8.5"
  }
 },
 "nbformat": 4,
 "nbformat_minor": 4
}
