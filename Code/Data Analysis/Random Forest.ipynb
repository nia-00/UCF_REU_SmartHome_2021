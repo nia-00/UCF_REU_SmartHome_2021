{
 "cells": [
  {
   "cell_type": "code",
   "execution_count": 1,
   "metadata": {},
   "outputs": [
    {
     "name": "stdout",
     "output_type": "stream",
     "text": [
      "done!\n"
     ]
    }
   ],
   "source": [
    "# imports\n",
    "import csv\n",
    "import math\n",
    "import random\n",
    "import numpy as np\n",
    "import pandas as pd\n",
    "import matplotlib.pyplot as plt\n",
    "from sklearn.utils import shuffle\n",
    "from sklearn.preprocessing import MinMaxScaler\n",
    "from sklearn.metrics import mean_squared_error, mean_absolute_error, r2_score\n",
    "from sklearn.ensemble import RandomForestRegressor\n",
    "print('done!')"
   ]
  },
  {
   "cell_type": "code",
   "execution_count": 2,
   "metadata": {},
   "outputs": [],
   "source": [
    "# fix random seed so this can be reproduced\n",
    "seed_val = 7\n",
    "def reset_random_seeds():\n",
    "    np.random.seed(seed_val)\n",
    "    random.seed(seed_val)\n",
    "    \n",
    "reset_random_seeds()"
   ]
  },
  {
   "cell_type": "code",
   "execution_count": 3,
   "metadata": {},
   "outputs": [],
   "source": [
    "# setting some specifications for model based on our data\n",
    "time_steps = 10 # the size of each chunk of data being fed into the ml algorithm\n",
    "shift_steps = 15 # the number of cells to shift the y values so the predictions line up with the current data\n",
    "num_out = 16 # number of outputs to be predicted\n",
    "test_files = 5 # the number of files to be set aside for testing"
   ]
  },
  {
   "cell_type": "code",
   "execution_count": 4,
   "metadata": {},
   "outputs": [
    {
     "name": "stdout",
     "output_type": "stream",
     "text": [
      "done!\n"
     ]
    }
   ],
   "source": [
    "# put all the data into a dict for processing\n",
    "\n",
    "# make list of file names\n",
    "file_names = ['charlotte_sim_1_cooltoofast_sin_cos_time.csv', 'charlotte_sim_1_lowpeaktemp_sin_cos_time.csv',\n",
    "              'charlotte_sim_1_lowtemps_sin_cos_time.csv','charlotte_sim_1_successful_sin_cos_time.csv', \n",
    "              'charlotte_sim_2_successful_sin_cos_time.csv',\n",
    "              'charlotte_sim_2_v2_sin_cos_time.csv', 'charlotte_sim_3_sin_cos_time.csv',\n",
    "              'denver_sim_1_sin_cos_time.csv', 'denver_sim_2_sin_cos_time.csv','denver_sim_3_sin_cos_time.csv',\n",
    "              'detroit_sim_1_sin_cos_time.csv', 'detroit_sim_2_incomplete_sin_cos_time.csv', \n",
    "              'detroit_sim_2_successful_sin_cos_time.csv','detroit_sim_3_sin_cos_time.csv',\n",
    "              'jacksonville_sim_1_sin_cos_time.csv', 'jacksonville_sim_2_sin_cos_time.csv',\n",
    "              'jacksonville_sim_3_sin_cos_time.csv', 'lasvegas_sim_1_sin_cos_time.csv',\n",
    "              'lasvegas_sim_2_sin_cos_time.csv', 'lasvegas_sim_3_sin_cos_time.csv']\n",
    "\n",
    "# declare the dict \n",
    "file_dict = dict()\n",
    "file_dict_len = len(file_names)\n",
    "\n",
    "# loop through file names, open then, convert to list, and add to dict as a numpy array with i as the key\n",
    "for i in range(file_dict_len):\n",
    "    with open(file_names[i], \"r\") as f:\n",
    "        reader = pd.read_csv(f)\n",
    "        \n",
    "        # always exclude heater due to errors in data collection \n",
    "        \n",
    "        # with time\n",
    "        # reader.drop(['heater'], inplace = True, axis = 1)\n",
    "        \n",
    "        # without time\n",
    "        reader.drop(['heater','Sin', 'Cos'], inplace = True, axis = 1)\n",
    "        \n",
    "        file_data = [list(x) for x in reader.values]\n",
    "        file_dict[i] = file_data\n",
    "        \n",
    "# check the conversion\n",
    "# print(file_dict[0])\n",
    "\n",
    "print(\"done!\")"
   ]
  },
  {
   "cell_type": "code",
   "execution_count": 5,
   "metadata": {},
   "outputs": [
    {
     "name": "stdout",
     "output_type": "stream",
     "text": [
      "done!\n"
     ]
    }
   ],
   "source": [
    "# combine train files and test files into separate lists\n",
    "\n",
    "full_train_x_set = [None] * 4500\n",
    "full_train_y_set = [None] * 4500\n",
    "full_test_x_set = [None] * 2000\n",
    "full_test_y_set = [None] * 2000\n",
    "trainInd = 0\n",
    "testInd = 0\n",
    "\n",
    "# separate training files\n",
    "for i in range(0,file_dict_len - test_files):\n",
    "    for j in range(0,len(file_dict[i])):\n",
    "        #print(file_dict[i][j])\n",
    "        full_train_x_set[trainInd] = file_dict[i][j]\n",
    "        # with time\n",
    "        # full_train_y_set[trainInd] = file_dict[i][j][2:num_out + 2]\n",
    "        # without time\n",
    "        full_train_y_set[trainInd] = file_dict[i][j][0:num_out]\n",
    "        trainInd += 1\n",
    "\n",
    "# separate testing files\n",
    "for i in range(file_dict_len - test_files, file_dict_len):\n",
    "    for j in range(0, len(file_dict[i])):\n",
    "        full_test_x_set[testInd] = file_dict[i][j]\n",
    "        # with time\n",
    "        # full_train_y_set[trainInd] = file_dict[i][j][2:num_out + 2]\n",
    "        # without time\n",
    "        full_test_y_set[testInd] = file_dict[i][j][0:num_out]\n",
    "        testInd += 1\n",
    "\n",
    "# filter the Nones out of the lists\n",
    "filtered_train_x_set = list(filter(None,full_train_x_set))\n",
    "filtered_train_y_set = list(filter(None, full_train_y_set))\n",
    "filtered_test_x_set = list(filter(None,full_test_x_set))\n",
    "filtered_test_y_set = list(filter(None,full_test_y_set))\n",
    "#print(filtered_train_set[len(filtered_train_set) - 5: len(filtered_train_set)])\n",
    "\n",
    "# scale all the data \n",
    "x_scaler = MinMaxScaler()\n",
    "scaled_train_x = x_scaler.fit_transform(filtered_train_x_set)\n",
    "scaled_test_x = x_scaler.transform(filtered_test_x_set)\n",
    "\n",
    "y_scaler = MinMaxScaler()\n",
    "scaled_train_y = y_scaler.fit_transform(filtered_train_y_set)\n",
    "scaled_test_y = y_scaler.transform(filtered_test_y_set)\n",
    "\n",
    "# ** check everything **\n",
    "# print(scaled_train[len(scaled_train) - 5: len(scaled_train)])\n",
    "# print(scaled_test_y)\n",
    "print(\"done!\")"
   ]
  },
  {
   "cell_type": "code",
   "execution_count": 6,
   "metadata": {},
   "outputs": [
    {
     "name": "stdout",
     "output_type": "stream",
     "text": [
      "start\n",
      "done!\n"
     ]
    }
   ],
   "source": [
    "# ** converting all training data into batches and putting it into a file **\n",
    "print('start')\n",
    "\n",
    "def train_batches(time_steps, shift_steps):\n",
    "    # for each file\n",
    "    train_set = [[None for x in range(2)] for i in range(4096)]\n",
    "    file_sum = 0\n",
    "    ind = 0\n",
    "    for i in range(file_dict_len - test_files):\n",
    "        # get num rows \n",
    "        current_len = len(file_dict[i])\n",
    "        # start at i and i + shift_steps (j)\n",
    "        for j in range(file_sum, file_sum + current_len - shift_steps + 1):\n",
    "            # put input in col 0 and predictions in col 1\n",
    "            train_set[ind][0] = scaled_train_x[j:j + time_steps]\n",
    "            temp = scaled_train_x[j + shift_steps - 1: j + shift_steps]\n",
    "            # with time\n",
    "            # train_set[ind][1] = temp[0][2:num_out + 2]\n",
    "            # without time\n",
    "            train_set[ind][1] = temp[0][0:num_out]\n",
    "            ind += 1\n",
    "        file_sum += current_len        \n",
    "    return train_set\n",
    "\n",
    "train_set = train_batches(time_steps, shift_steps)\n",
    "train_set = train_set[0:len(train_set) - 167][0:len(train_set) - 167]\n",
    "\n",
    "# ** check everything **\n",
    "#print(train_set[len(train_set) - 5: len(train_set)])\n",
    "\n",
    "# with open('train_batches.csv', \"w\", newline = \"\") as x:\n",
    "#     writeX = csv.writer(x)\n",
    "#     writeX.writerows(train_set) \n",
    "    \n",
    "print('done!')"
   ]
  },
  {
   "cell_type": "code",
   "execution_count": 7,
   "metadata": {},
   "outputs": [
    {
     "name": "stdout",
     "output_type": "stream",
     "text": [
      "start\n",
      "done!\n"
     ]
    }
   ],
   "source": [
    "# ** converting all testing data into batches and putting it into a file **\n",
    "print('start')\n",
    "\n",
    "def test_batches(time_steps, shift_steps):\n",
    "    # for each file\n",
    "    test_set = [[None for x in range(2)] for i in range(2046)]\n",
    "    file_sum = 0\n",
    "    ind = 0\n",
    "    for i in range(file_dict_len - 5, file_dict_len):\n",
    "        # get num rows \n",
    "        current_len = len(file_dict[i])\n",
    "        # start at i and i + 15 (j)\n",
    "        for j in range(file_sum, file_sum + current_len - shift_steps + 1):\n",
    "            #print(ind)\n",
    "            test_set[ind][0] = scaled_test_x[j:j + time_steps]\n",
    "            temp = scaled_test_x[j + shift_steps - 1: j + shift_steps]\n",
    "            # with time\n",
    "            # train_set[ind][1] = temp[0][2:num_out + 2]\n",
    "            # without time\n",
    "            test_set[ind][1] = temp[0][0:num_out]\n",
    "            ind += 1\n",
    "        file_sum += current_len        \n",
    "    return test_set\n",
    "\n",
    "test_set = test_batches(time_steps, shift_steps)\n",
    "test_set = test_set[0:len(test_set) - 589][0:len(test_set) - 589]\n",
    "\n",
    "# ** check everything **\n",
    "#print(test_set[len(test_set) - 5:len(test_set)])\n",
    "#test_set = np.array(test_set)\n",
    "\n",
    "#with open('test_batches.csv', \"w\", newline = \"\") as x:\n",
    "#    writeX = csv.writer(x)\n",
    "#    writeX.writerows(test_set)\n",
    "    \n",
    "print('done!')"
   ]
  },
  {
   "cell_type": "code",
   "execution_count": 8,
   "metadata": {},
   "outputs": [
    {
     "name": "stdout",
     "output_type": "stream",
     "text": [
      "(3929, 10, 34)\n",
      "(3929, 16)\n",
      "(1457, 10, 34)\n",
      "(1457, 16)\n",
      "done!\n"
     ]
    },
    {
     "name": "stderr",
     "output_type": "stream",
     "text": [
      "<ipython-input-8-b147467bc2fb>:2: VisibleDeprecationWarning: Creating an ndarray from ragged nested sequences (which is a list-or-tuple of lists-or-tuples-or ndarrays with different lengths or shapes) is deprecated. If you meant to do this, you must specify 'dtype=object' when creating the ndarray\n",
      "  train_set = np.array(train_set)\n",
      "<ipython-input-8-b147467bc2fb>:3: VisibleDeprecationWarning: Creating an ndarray from ragged nested sequences (which is a list-or-tuple of lists-or-tuples-or ndarrays with different lengths or shapes) is deprecated. If you meant to do this, you must specify 'dtype=object' when creating the ndarray\n",
      "  test_set = np.array(test_set)\n"
     ]
    }
   ],
   "source": [
    "# convert to numpy array and shuffle train/test set\n",
    "train_set = np.array(train_set)\n",
    "test_set = np.array(test_set)\n",
    "\n",
    "np.random.shuffle(train_set)\n",
    "np.random.shuffle(test_set)\n",
    "\n",
    "# split into x and y\n",
    "x_train = [train_set[i][0] for i in range(len(train_set))]\n",
    "x_train = np.array(x_train)\n",
    "y_train = [train_set[i][1] for i in range(len(train_set))]\n",
    "y_train = np.array(y_train)\n",
    "\n",
    "x_test = [test_set[i][0] for i in range(len(test_set))]\n",
    "x_test = np.array(x_test)\n",
    "y_test = [test_set[i][1] for i in range(len(test_set))]\n",
    "y_test = np.array(y_test)\n",
    "\n",
    "# check the shapes\n",
    "print(x_train.shape)\n",
    "print(y_train.shape)\n",
    "print(x_test.shape)\n",
    "print(y_test.shape)\n",
    "print('done!')"
   ]
  },
  {
   "cell_type": "code",
   "execution_count": 9,
   "metadata": {},
   "outputs": [
    {
     "name": "stdout",
     "output_type": "stream",
     "text": [
      "done!\n"
     ]
    }
   ],
   "source": [
    "# ** random forest regressor **\n",
    "\n",
    "#flatten our training and testing data \n",
    "train_flatten = np.reshape(x_train, [x_train.shape[0],x_train.shape[1]*x_train.shape[2]])\n",
    "test_flatten = np.reshape(x_test, [x_test.shape[0],x_test.shape[1]*x_test.shape[2]])\n",
    "\n",
    "# make the regressor using the params found in gridsearch\n",
    "model = RandomForestRegressor(n_estimators = 150, max_depth = 5, criterion = 'mse')\n",
    "\n",
    "#fit the model\n",
    "#model.fit(train_flatten, y_train, epochs=50, batch_size=batch_size, validation_data=(test_flatten, y_test), verbose = 1, shuffle=False)\n",
    "model.fit(train_flatten, y_train)\n",
    "\n",
    "# predict train and test\n",
    "rfr_train_pred = model.predict(train_flatten)\n",
    "rfr_test_pred = model.predict(test_flatten)\n",
    "\n",
    "print('done!')"
   ]
  },
  {
   "cell_type": "code",
   "execution_count": 10,
   "metadata": {},
   "outputs": [
    {
     "name": "stdout",
     "output_type": "stream",
     "text": [
      "Train RMSE Score: 0.49\n",
      "Test RMSE Score: 0.75\n",
      "\n",
      "Train Mean Absolute Error: 0.34\n",
      "Test Mean Absolute Error: 0.54\n",
      "\n",
      "Train R2 Score: 0.94\n",
      "Test R2 Score: 0.84\n"
     ]
    }
   ],
   "source": [
    "# scale the predictions back\n",
    "train_pred = y_scaler.inverse_transform(rfr_train_pred)\n",
    "y_train = y_scaler.inverse_transform(y_train)\n",
    "\n",
    "test_pred = y_scaler.inverse_transform(rfr_test_pred)\n",
    "y_test = y_scaler.inverse_transform(y_test)\n",
    "\n",
    "# get RMSE\n",
    "trainScore = math.sqrt(mean_squared_error(y_train, train_pred)) \n",
    "testScore = math.sqrt(mean_squared_error(y_test, test_pred))\n",
    "print('Train RMSE Score: %.2f' % (trainScore))\n",
    "print('Test RMSE Score: %.2f' % (testScore))\n",
    "print()\n",
    "\n",
    "# get mean absolute error\n",
    "print(\"Train Mean Absolute Error: %.2f\" % (mean_absolute_error(y_train, train_pred)))\n",
    "print(\"Test Mean Absolute Error: %.2f\" % (mean_absolute_error(y_test, test_pred)))\n",
    "print()\n",
    "\n",
    "#get r2 score\n",
    "print(\"Train R2 Score: %.2f\" % r2_score(y_train,train_pred))\n",
    "print(\"Test R2 Score: %.2f\" % r2_score(y_test, test_pred))"
   ]
  },
  {
   "cell_type": "code",
   "execution_count": 18,
   "metadata": {},
   "outputs": [
    {
     "name": "stdout",
     "output_type": "stream",
     "text": [
      "start\n"
     ]
    },
    {
     "data": {
      "image/png": "[encoded data removed]",
      "text/plain": [
       "<Figure size 1080x720 with 2 Axes>"
      ]
     },
     "metadata": {
      "needs_background": "light"
     },
     "output_type": "display_data"
    },
    {
     "name": "stdout",
     "output_type": "stream",
     "text": [
      "done\n"
     ]
    }
   ],
   "source": [
    "print('start')\n",
    "labels = [\"Outside\",\"Outside\",\"Bedroom 1\",\"Bedroom 1\",\"Kitchen\",\"Kitchen\",\"Dining Room\",\n",
    "          \"Dining Room\",\"Bathroom\",\"Bathroom\",\"Living Room 1\",\"Living Room 1\",\"Living Room 2\",\"Living Room 2\",\n",
    "          \"Bedroom 2\",\"Bedroom 2\"]\n",
    "\n",
    "def plot_room(room_num, filename):\n",
    "    \n",
    "    # set figure size and make two charts\n",
    "    fig = plt.figure(figsize = (15,10))\n",
    "    ax1 = fig.add_subplot(222, label = '1')\n",
    "    ax2 = fig.add_subplot(221, label = '2')\n",
    "    \n",
    "    # for graphing all rooms\n",
    "    if room_num == -1:\n",
    "        ind = 0\n",
    "        for i in range(0,y_test.shape[1],2):\n",
    "            ax1.scatter(y_test[:,i], test_pred[:,i], label = labels[ind])\n",
    "            ax2.scatter(y_test[:,i + 1], test_pred[:, i + 1], label = labels[ind + 1])\n",
    "            ind += 2\n",
    "    # for graphing individual rooms\n",
    "    else:\n",
    "        if room_num == 6:\n",
    "            room_num += 1\n",
    "            \n",
    "        ax1.scatter(y_test[:,room_num * 2], test_pred[:,room_num * 2], label = labels[room_num * 2])\n",
    "        ax2.scatter(y_test[:,room_num * 2 + 1], test_pred[:,room_num * 2 + 1], label = labels[room_num * 2 + 1])\n",
    "        \n",
    "        # the living room has two sensors\n",
    "        if room_num == 5:\n",
    "            ax1.scatter(y_test[:,room_num * 2 + 2], test_pred[:, room_num * 2 + 2], label = labels[room_num * 2 + 2], color = 'plum')\n",
    "            ax2.scatter(y_test[:,room_num * 2 + 3], test_pred[:, room_num * 2 + 3], label = labels[room_num * 2 + 3], color = 'plum')\n",
    "\n",
    "    # plot accuracy line\n",
    "    ax1.plot([45, 65], [45, 65], color = 'red')\n",
    "    ax2.plot([69, 81], [69, 81], color = 'red')\n",
    "    \n",
    "    ax1.set_title('Humidity', fontsize = 15)\n",
    "    ax2.set_title('Temperature', fontsize = 15)\n",
    "    ax1.set_xlabel('Actual', fontsize = 15)\n",
    "    ax1.set_ylabel('Prediction', fontsize = 15)\n",
    "    ax2.set_xlabel('Actual', fontsize = 15)\n",
    "    ax2.set_ylabel('Prediction', fontsize = 15)\n",
    "    fig.tight_layout(pad = 3.0)\n",
    "    plt.legend(prop = {'size':12})\n",
    "    ax1.legend(prop = {'size':12})\n",
    "    ax2.legend(prop = {'size':12})\n",
    "    plt.show()\n",
    "    fig.savefig(filename, dpi = 1200)\n",
    "\n",
    "# with time\n",
    "# plot_room(6, filename = 'Random_Forest_time_temp_hum_graphs_bedroom_2')\n",
    "\n",
    "# without time\n",
    "plot_room(6, filename = 'Random_Forest_no_time_temp_hum_graphs_bedroom_2')\n",
    "\n",
    "# ** room numbers **\n",
    "#-1: All Rooms\n",
    "# 0: Outside\n",
    "# 1: Bedroom 1 \n",
    "# 2: Kitchen \n",
    "# 3: Dining Room\n",
    "# 4: Bathroom  \n",
    "# 5: Living Rm 1 \n",
    "# 5: Living Rm 2 \n",
    "# 7: Bedroom 2 \n",
    "\n",
    "print('done')"
   ]
  },
  {
   "cell_type": "code",
   "execution_count": null,
   "metadata": {},
   "outputs": [],
   "source": []
  }
 ],
 "metadata": {
  "kernelspec": {
   "display_name": "Python 3",
   "language": "python",
   "name": "python3"
  },
  "language_info": {
   "codemirror_mode": {
    "name": "ipython",
    "version": 3
   },
   "file_extension": ".py",
   "mimetype": "text/x-python",
   "name": "python",
   "nbconvert_exporter": "python",
   "pygments_lexer": "ipython3",
   "version": "3.8.5"
  }
 },
 "nbformat": 4,
 "nbformat_minor": 4
}
