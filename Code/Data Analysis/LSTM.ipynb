{
 "cells": [
  {
   "cell_type": "code",
   "execution_count": 1,
   "metadata": {},
   "outputs": [],
   "source": [
    "# imports\n",
    "import os\n",
    "import csv\n",
    "import math\n",
    "import random\n",
    "import numpy as np\n",
    "import pandas as pd\n",
    "import tensorflow as tf\n",
    "import matplotlib.pyplot as plt\n",
    "import tensorflow.keras as keras\n",
    "from keras import layers\n",
    "from sklearn import preprocessing\n",
    "from sklearn.utils import shuffle\n",
    "from sklearn.preprocessing import MinMaxScaler\n",
    "from sklearn.metrics import mean_squared_error\n",
    "from tensorflow.keras.models import Sequential\n",
    "from tensorflow.keras.layers import Input, Dense, GRU, Embedding\n",
    "from tensorflow.keras.optimizers import RMSprop\n",
    "from tensorflow.keras.callbacks import EarlyStopping, ModelCheckpoint, TensorBoard, ReduceLROnPlateau\n",
    "from tensorflow.keras.backend import square, mean"
   ]
  },
  {
   "cell_type": "code",
   "execution_count": 3,
   "metadata": {},
   "outputs": [],
   "source": [
    "# put everything into a dict\n",
    "\n",
    "# make list of file names\n",
    "file_names = ['charlotte_sim_1_cooltoofast_combined.csv', 'charlotte_sim_1_lowpeaktemp_combined.csv',\n",
    "              'charlotte_sim_sucessful_combined.csv', 'charlotte_sim_2_combined.csv',\n",
    "              'charlotte_sim_2_v2_combined.csv', 'charlotte_sim_3_combined.csv',\n",
    "              'denver_sim_1_combined.csv', 'detroit_sim_1_combined.csv',\n",
    "              'detroit_sim_2_incomplete_combined.csv', 'detroit_sim_3_combined.csv',\n",
    "              'jacksonville_sim_1_combined.csv', 'jacksonville_sim_2_combined.csv',\n",
    "              'jacksonville_sim_3_combined.csv', 'lasvegas_sim_1_combined.csv',\n",
    "              'lasvegas_sim_2_combined.csv']\n",
    "\n",
    "# declare the dict \n",
    "file_dict = dict()\n",
    "length = len(file_names)\n",
    "\n",
    "# loop through file names, open then, convert to list, and add to dict with i as the key\n",
    "for i in range(length):\n",
    "    with open(file_names[i], \"r\") as f:\n",
    "        reader = csv.reader(f)\n",
    "        data = list(reader)\n",
    "        file_dict[i] = data\n",
    "\n",
    "# check the conversion\n",
    "print(file_dict[1])\n"
   ]
  },
  {
   "cell_type": "code",
   "execution_count": null,
   "metadata": {},
   "outputs": [],
   "source": [
    "# fix random seed so this can be reproduced\n",
    "seed_val = 7\n",
    "def reset_random_seeds():\n",
    "    tf.random.set_seed(seed_val)\n",
    "    np.random.seed(seed_val)\n",
    "    random.seed(seed_val)"
   ]
  },
  {
   "cell_type": "code",
   "execution_count": 4,
   "metadata": {},
   "outputs": [],
   "source": [
    "# setting some specifications for model based on our data\n",
    "num_features = 0\n",
    "batch_size = 32\n",
    "time_steps = 0\n",
    "sequence_length = 10\n",
    "shift_steps = 15 # ?"
   ]
  },
  {
   "cell_type": "code",
   "execution_count": null,
   "metadata": {},
   "outputs": [],
   "source": [
    "# split data into test and train set by getting .8 of each data file and saving it into an array?\n",
    "# when setting the file length for each file get the file length and multiply by .8\n",
    "train_size = 0.8"
   ]
  },
  {
   "cell_type": "code",
   "execution_count": null,
   "metadata": {},
   "outputs": [],
   "source": [
    "# get random data from different files and batch them into one file\n"
   ]
  },
  {
   "cell_type": "code",
   "execution_count": null,
   "metadata": {},
   "outputs": [],
   "source": [
    "# sets the header to row 0, skips the header row, and excludes the first two columns\n",
    "# with the sensor and motor times\n",
    "df = pd.read_csv(\"combined_dataset1.csv\", header = 0, skiprows = [0], usecols = [2:])\n",
    "dataset = df.val\n",
    "# make sure all the data is of the same type\n",
    "dataset = dataset.astype('float32')\n",
    "# shift the y data\n",
    "target_names = ['S4_Temperature','S6_Temperature', 'S12_Temperature', 'S18_Temperature', 'S19_Temperature', 'S24_Temperature', 'S25_Temperature', 'S26_Temperature']\n",
    "df_targets = data[][target_names].shift(-shift_steps)"
   ]
  }
 ],
 "metadata": {
  "kernelspec": {
   "display_name": "Python 3",
   "language": "python",
   "name": "python3"
  },
  "language_info": {
   "codemirror_mode": {
    "name": "ipython",
    "version": 3
   },
   "file_extension": ".py",
   "mimetype": "text/x-python",
   "name": "python",
   "nbconvert_exporter": "python",
   "pygments_lexer": "ipython3",
   "version": "3.8.5"
  }
 },
 "nbformat": 4,
 "nbformat_minor": 4
}
